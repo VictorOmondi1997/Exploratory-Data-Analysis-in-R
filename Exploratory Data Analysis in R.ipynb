{
 "cells": [
  {
   "cell_type": "markdown",
   "metadata": {},
   "source": [
    "# Exploratory Data Analysis in R\n",
    "\n",
    "> use graphical and numerical techniques to begin uncovering the structure of your data\n",
    "\n",
    "- author: Victor Omondi\n",
    "- toc: true\n",
    "- comments: true\n",
    "- categories: [eda, r, data-analysis]\n",
    "- image: images/eda-r-shield.png"
   ]
  },
  {
   "cell_type": "markdown",
   "metadata": {},
   "source": [
    "# Overview\n",
    "\n",
    "When a dataset is represented as a table or a database, it's difficult to observe much about it beyond its size and the types of variables it contains. We'll explore how to use graphical and numerical techniques to begin uncovering the structure of data. Which variables suggest interesting relationships? Which observations are unusual? We'll be able to answer these questions and more, while generating graphics that are both insightful and beautiful."
   ]
  },
  {
   "cell_type": "markdown",
   "metadata": {},
   "source": [
    "# Libraries"
   ]
  },
  {
   "cell_type": "code",
   "execution_count": 37,
   "metadata": {},
   "outputs": [],
   "source": [
    "library(openintro)\n",
    "library(readr)\n",
    "library(ggplot2)\n",
    "library(dplyr)"
   ]
  },
  {
   "cell_type": "markdown",
   "metadata": {},
   "source": [
    "# Exploring Categorical Data\n",
    "\n",
    "We will explore how to create graphical and numerical summaries of two categorical variables."
   ]
  },
  {
   "cell_type": "markdown",
   "metadata": {},
   "source": [
    "> ### Comics dataset\n",
    "This is a collection of characteristics on all of the superheroes created by Marvel and DC comics in the last 80 years."
   ]
  },
  {
   "cell_type": "code",
   "execution_count": 4,
   "metadata": {},
   "outputs": [
    {
     "name": "stderr",
     "output_type": "stream",
     "text": [
      "Parsed with column specification:\n",
      "cols(\n",
      "  name = col_character(),\n",
      "  id = col_character(),\n",
      "  align = col_character(),\n",
      "  eye = col_character(),\n",
      "  hair = col_character(),\n",
      "  gender = col_character(),\n",
      "  gsm = col_character(),\n",
      "  alive = col_character(),\n",
      "  appearances = col_double(),\n",
      "  first_appear = col_character(),\n",
      "  publisher = col_character()\n",
      ")\n"
     ]
    },
    {
     "data": {
      "text/html": [
       "<table>\n",
       "<thead><tr><th scope=col>name</th><th scope=col>id</th><th scope=col>align</th><th scope=col>eye</th><th scope=col>hair</th><th scope=col>gender</th><th scope=col>gsm</th><th scope=col>alive</th><th scope=col>appearances</th><th scope=col>first_appear</th><th scope=col>publisher</th></tr></thead>\n",
       "<tbody>\n",
       "\t<tr><td>Spider-Man (Peter Parker)            </td><td>Secret                               </td><td>Good                                 </td><td>Hazel Eyes                           </td><td>Brown Hair                           </td><td>Male                                 </td><td>NA                                   </td><td>Living Characters                    </td><td>4043                                 </td><td>Aug-62                               </td><td>marvel                               </td></tr>\n",
       "\t<tr><td>Captain America (Steven Rogers)      </td><td>Public                               </td><td>Good                                 </td><td>Blue Eyes                            </td><td>White Hair                           </td><td>Male                                 </td><td>NA                                   </td><td>Living Characters                    </td><td>3360                                 </td><td>Mar-41                               </td><td>marvel                               </td></tr>\n",
       "\t<tr><td>Wolverine (James \\\"Logan\\\" Howlett)</td><td>Public                               </td><td>Neutral                              </td><td>Blue Eyes                            </td><td>Black Hair                           </td><td>Male                                 </td><td>NA                                   </td><td>Living Characters                    </td><td>3061                                 </td><td>Oct-74                               </td><td>marvel                               </td></tr>\n",
       "\t<tr><td>Iron Man (Anthony \\\"Tony\\\" Stark)  </td><td>Public                               </td><td>Good                                 </td><td>Blue Eyes                            </td><td>Black Hair                           </td><td>Male                                 </td><td>NA                                   </td><td>Living Characters                    </td><td>2961                                 </td><td>Mar-63                               </td><td>marvel                               </td></tr>\n",
       "\t<tr><td>Thor (Thor Odinson)                  </td><td>No Dual                              </td><td>Good                                 </td><td>Blue Eyes                            </td><td>Blond Hair                           </td><td>Male                                 </td><td>NA                                   </td><td>Living Characters                    </td><td>2258                                 </td><td>Nov-50                               </td><td>marvel                               </td></tr>\n",
       "\t<tr><td>Benjamin Grimm (Earth-616)           </td><td>Public                               </td><td>Good                                 </td><td>Blue Eyes                            </td><td>No Hair                              </td><td>Male                                 </td><td>NA                                   </td><td>Living Characters                    </td><td>2255                                 </td><td>Nov-61                               </td><td>marvel                               </td></tr>\n",
       "</tbody>\n",
       "</table>\n"
      ],
      "text/latex": [
       "\\begin{tabular}{r|lllllllllll}\n",
       " name & id & align & eye & hair & gender & gsm & alive & appearances & first\\_appear & publisher\\\\\n",
       "\\hline\n",
       "\t Spider-Man (Peter Parker)             & Secret                                & Good                                  & Hazel Eyes                            & Brown Hair                            & Male                                  & NA                                    & Living Characters                     & 4043                                  & Aug-62                                & marvel                               \\\\\n",
       "\t Captain America (Steven Rogers)       & Public                                & Good                                  & Blue Eyes                             & White Hair                            & Male                                  & NA                                    & Living Characters                     & 3360                                  & Mar-41                                & marvel                               \\\\\n",
       "\t Wolverine (James \\textbackslash{}\"Logan\\textbackslash{}\" Howlett) & Public                                                              & Neutral                                                             & Blue Eyes                                                           & Black Hair                                                          & Male                                                                & NA                                                                  & Living Characters                                                   & 3061                                                                & Oct-74                                                              & marvel                                                             \\\\\n",
       "\t Iron Man (Anthony \\textbackslash{}\"Tony\\textbackslash{}\" Stark)   & Public                                                              & Good                                                                & Blue Eyes                                                           & Black Hair                                                          & Male                                                                & NA                                                                  & Living Characters                                                   & 2961                                                                & Mar-63                                                              & marvel                                                             \\\\\n",
       "\t Thor (Thor Odinson)                   & No Dual                               & Good                                  & Blue Eyes                             & Blond Hair                            & Male                                  & NA                                    & Living Characters                     & 2258                                  & Nov-50                                & marvel                               \\\\\n",
       "\t Benjamin Grimm (Earth-616)            & Public                                & Good                                  & Blue Eyes                             & No Hair                               & Male                                  & NA                                    & Living Characters                     & 2255                                  & Nov-61                                & marvel                               \\\\\n",
       "\\end{tabular}\n"
      ],
      "text/markdown": [
       "\n",
       "| name | id | align | eye | hair | gender | gsm | alive | appearances | first_appear | publisher |\n",
       "|---|---|---|---|---|---|---|---|---|---|---|\n",
       "| Spider-Man (Peter Parker)             | Secret                                | Good                                  | Hazel Eyes                            | Brown Hair                            | Male                                  | NA                                    | Living Characters                     | 4043                                  | Aug-62                                | marvel                                |\n",
       "| Captain America (Steven Rogers)       | Public                                | Good                                  | Blue Eyes                             | White Hair                            | Male                                  | NA                                    | Living Characters                     | 3360                                  | Mar-41                                | marvel                                |\n",
       "| Wolverine (James \\\"Logan\\\" Howlett) | Public                                | Neutral                               | Blue Eyes                             | Black Hair                            | Male                                  | NA                                    | Living Characters                     | 3061                                  | Oct-74                                | marvel                                |\n",
       "| Iron Man (Anthony \\\"Tony\\\" Stark)   | Public                                | Good                                  | Blue Eyes                             | Black Hair                            | Male                                  | NA                                    | Living Characters                     | 2961                                  | Mar-63                                | marvel                                |\n",
       "| Thor (Thor Odinson)                   | No Dual                               | Good                                  | Blue Eyes                             | Blond Hair                            | Male                                  | NA                                    | Living Characters                     | 2258                                  | Nov-50                                | marvel                                |\n",
       "| Benjamin Grimm (Earth-616)            | Public                                | Good                                  | Blue Eyes                             | No Hair                               | Male                                  | NA                                    | Living Characters                     | 2255                                  | Nov-61                                | marvel                                |\n",
       "\n"
      ],
      "text/plain": [
       "  name                                  id      align   eye        hair      \n",
       "1 Spider-Man (Peter Parker)             Secret  Good    Hazel Eyes Brown Hair\n",
       "2 Captain America (Steven Rogers)       Public  Good    Blue Eyes  White Hair\n",
       "3 Wolverine (James \\\\\"Logan\\\\\" Howlett) Public  Neutral Blue Eyes  Black Hair\n",
       "4 Iron Man (Anthony \\\\\"Tony\\\\\" Stark)   Public  Good    Blue Eyes  Black Hair\n",
       "5 Thor (Thor Odinson)                   No Dual Good    Blue Eyes  Blond Hair\n",
       "6 Benjamin Grimm (Earth-616)            Public  Good    Blue Eyes  No Hair   \n",
       "  gender gsm alive             appearances first_appear publisher\n",
       "1 Male   NA  Living Characters 4043        Aug-62       marvel   \n",
       "2 Male   NA  Living Characters 3360        Mar-41       marvel   \n",
       "3 Male   NA  Living Characters 3061        Oct-74       marvel   \n",
       "4 Male   NA  Living Characters 2961        Mar-63       marvel   \n",
       "5 Male   NA  Living Characters 2258        Nov-50       marvel   \n",
       "6 Male   NA  Living Characters 2255        Nov-61       marvel   "
      ]
     },
     "metadata": {},
     "output_type": "display_data"
    }
   ],
   "source": [
    "comics <- read_csv(\"datasets/comics.csv\")\n",
    "head(comics)"
   ]
  },
  {
   "cell_type": "markdown",
   "metadata": {},
   "source": [
    "> ### Working with factors"
   ]
  },
  {
   "cell_type": "code",
   "execution_count": 7,
   "metadata": {},
   "outputs": [
    {
     "data": {
      "text/html": [
       "<ol class=list-inline>\n",
       "\t<li>'Bad'</li>\n",
       "\t<li>'Good'</li>\n",
       "\t<li>'Neutral'</li>\n",
       "\t<li>'Reformed Criminals'</li>\n",
       "</ol>\n"
      ],
      "text/latex": [
       "\\begin{enumerate*}\n",
       "\\item 'Bad'\n",
       "\\item 'Good'\n",
       "\\item 'Neutral'\n",
       "\\item 'Reformed Criminals'\n",
       "\\end{enumerate*}\n"
      ],
      "text/markdown": [
       "1. 'Bad'\n",
       "2. 'Good'\n",
       "3. 'Neutral'\n",
       "4. 'Reformed Criminals'\n",
       "\n",
       "\n"
      ],
      "text/plain": [
       "[1] \"Bad\"                \"Good\"               \"Neutral\"           \n",
       "[4] \"Reformed Criminals\""
      ]
     },
     "metadata": {},
     "output_type": "display_data"
    }
   ],
   "source": [
    "comics$align = as.factor(comics$align)\n",
    "levels(comics$align)"
   ]
  },
  {
   "cell_type": "code",
   "execution_count": 8,
   "metadata": {},
   "outputs": [
    {
     "data": {
      "text/html": [
       "<ol class=list-inline>\n",
       "\t<li>'No Dual'</li>\n",
       "\t<li>'Public'</li>\n",
       "\t<li>'Secret'</li>\n",
       "\t<li>'Unknown'</li>\n",
       "</ol>\n"
      ],
      "text/latex": [
       "\\begin{enumerate*}\n",
       "\\item 'No Dual'\n",
       "\\item 'Public'\n",
       "\\item 'Secret'\n",
       "\\item 'Unknown'\n",
       "\\end{enumerate*}\n"
      ],
      "text/markdown": [
       "1. 'No Dual'\n",
       "2. 'Public'\n",
       "3. 'Secret'\n",
       "4. 'Unknown'\n",
       "\n",
       "\n"
      ],
      "text/plain": [
       "[1] \"No Dual\" \"Public\"  \"Secret\"  \"Unknown\""
      ]
     },
     "metadata": {},
     "output_type": "display_data"
    }
   ],
   "source": [
    "comics$id = as.factor(comics$id)\n",
    "levels(comics$id)"
   ]
  },
  {
   "cell_type": "code",
   "execution_count": 9,
   "metadata": {},
   "outputs": [
    {
     "data": {
      "text/plain": [
       "         \n",
       "           Bad Good Neutral Reformed Criminals\n",
       "  No Dual  474  647     390                  0\n",
       "  Public  2172 2930     965                  1\n",
       "  Secret  4493 2475     959                  1\n",
       "  Unknown    7    0       2                  0"
      ]
     },
     "metadata": {},
     "output_type": "display_data"
    }
   ],
   "source": [
    "table(comics$id, comics$align)"
   ]
  },
  {
   "cell_type": "code",
   "execution_count": 15,
   "metadata": {},
   "outputs": [
    {
     "data": {
      "image/png": "[encoded data removed]",
      "text/plain": [
       "plot without title"
      ]
     },
     "metadata": {},
     "output_type": "display_data"
    }
   ],
   "source": [
    "comics %>%\n",
    "    ggplot(aes(x=id, fill=align)) +\n",
    "        geom_bar()"
   ]
  },
  {
   "cell_type": "code",
   "execution_count": 21,
   "metadata": {},
   "outputs": [
    {
     "name": "stdout",
     "output_type": "stream",
     "text": [
      "tibble [23,272 x 11] (S3: spec_tbl_df/tbl_df/tbl/data.frame)\n",
      " $ name        : chr [1:23272] \"Spider-Man (Peter Parker)\" \"Captain America (Steven Rogers)\" \"Wolverine (James \\\\\\\"Logan\\\\\\\" Howlett)\" \"Iron Man (Anthony \\\\\\\"Tony\\\\\\\" Stark)\" ...\n",
      " $ id          : Factor w/ 4 levels \"No Dual\",\"Public\",..: 3 2 2 2 1 2 2 2 2 2 ...\n",
      " $ align       : Factor w/ 4 levels \"Bad\",\"Good\",\"Neutral\",..: 2 2 3 2 2 2 2 2 3 2 ...\n",
      " $ eye         : chr [1:23272] \"Hazel Eyes\" \"Blue Eyes\" \"Blue Eyes\" \"Blue Eyes\" ...\n",
      " $ hair        : chr [1:23272] \"Brown Hair\" \"White Hair\" \"Black Hair\" \"Black Hair\" ...\n",
      " $ gender      : chr [1:23272] \"Male\" \"Male\" \"Male\" \"Male\" ...\n",
      " $ gsm         : chr [1:23272] NA NA NA NA ...\n",
      " $ alive       : chr [1:23272] \"Living Characters\" \"Living Characters\" \"Living Characters\" \"Living Characters\" ...\n",
      " $ appearances : num [1:23272] 4043 3360 3061 2961 2258 ...\n",
      " $ first_appear: chr [1:23272] \"Aug-62\" \"Mar-41\" \"Oct-74\" \"Mar-63\" ...\n",
      " $ publisher   : chr [1:23272] \"marvel\" \"marvel\" \"marvel\" \"marvel\" ...\n",
      " - attr(*, \"spec\")=\n",
      "  .. cols(\n",
      "  ..   name = col_character(),\n",
      "  ..   id = col_character(),\n",
      "  ..   align = col_character(),\n",
      "  ..   eye = col_character(),\n",
      "  ..   hair = col_character(),\n",
      "  ..   gender = col_character(),\n",
      "  ..   gsm = col_character(),\n",
      "  ..   alive = col_character(),\n",
      "  ..   appearances = col_double(),\n",
      "  ..   first_appear = col_character(),\n",
      "  ..   publisher = col_character()\n",
      "  .. )\n"
     ]
    }
   ],
   "source": [
    "str(comics)"
   ]
  },
  {
   "cell_type": "code",
   "execution_count": 23,
   "metadata": {},
   "outputs": [
    {
     "name": "stdout",
     "output_type": "stream",
     "text": [
      "tibble [23,272 x 11] (S3: spec_tbl_df/tbl_df/tbl/data.frame)\n",
      " $ name        : Factor w/ 23272 levels \"'Spinner (Earth-616)\",..: 19830 3335 22769 9647 20956 2220 17576 9347 18794 10957 ...\n",
      " $ id          : Factor w/ 4 levels \"No Dual\",\"Public\",..: 3 2 2 2 1 2 2 2 2 2 ...\n",
      " $ align       : Factor w/ 4 levels \"Bad\",\"Good\",\"Neutral\",..: 2 2 3 2 2 2 2 2 3 2 ...\n",
      " $ eye         : Factor w/ 26 levels \"Amber Eyes\",\"Auburn Hair\",..: 11 5 5 5 5 5 6 6 6 5 ...\n",
      " $ hair        : Factor w/ 28 levels \"Auburn Hair\",..: 7 27 3 3 4 14 7 7 7 4 ...\n",
      " $ gender      : Factor w/ 3 levels \"Female\",\"Male\",..: 2 2 2 2 2 2 2 2 2 2 ...\n",
      " $ gsm         : Factor w/ 6 levels \"Bisexual Characters\",..: NA NA NA NA NA NA NA NA NA NA ...\n",
      " $ alive       : Factor w/ 2 levels \"Deceased Characters\",..: 2 2 2 2 2 2 2 2 2 2 ...\n",
      " $ appearances : num [1:23272] 4043 3360 3061 2961 2258 ...\n",
      " $ first_appear: Factor w/ 1606 levels \"1935, October\",..: 874 1278 1513 1296 1424 1432 1432 1364 1570 1432 ...\n",
      " $ publisher   : Factor w/ 2 levels \"dc\",\"marvel\": 2 2 2 2 2 2 2 2 2 2 ...\n",
      " - attr(*, \"spec\")=\n",
      "  .. cols(\n",
      "  ..   name = col_character(),\n",
      "  ..   id = col_character(),\n",
      "  ..   align = col_character(),\n",
      "  ..   eye = col_character(),\n",
      "  ..   hair = col_character(),\n",
      "  ..   gender = col_character(),\n",
      "  ..   gsm = col_character(),\n",
      "  ..   alive = col_character(),\n",
      "  ..   appearances = col_double(),\n",
      "  ..   first_appear = col_character(),\n",
      "  ..   publisher = col_character()\n",
      "  .. )\n"
     ]
    }
   ],
   "source": [
    "comics$name = as.factor(comics$name)\n",
    "comics$eye = as.factor(comics$eye)\n",
    "comics$hair = as.factor(comics$hair)\n",
    "comics$gender = as.factor(comics$gender)\n",
    "comics$gsm = as.factor(comics$gsm)\n",
    "comics$alive = as.factor(comics$alive)\n",
    "comics$first_appear = as.factor(comics$first_appear)\n",
    "comics$publisher = as.factor(comics$publisher)\n",
    "\n",
    "str(comics)"
   ]
  },
  {
   "cell_type": "code",
   "execution_count": 24,
   "metadata": {},
   "outputs": [
    {
     "data": {
      "text/html": [
       "<ol class=list-inline>\n",
       "\t<li>'Female'</li>\n",
       "\t<li>'Male'</li>\n",
       "\t<li>'Other'</li>\n",
       "</ol>\n"
      ],
      "text/latex": [
       "\\begin{enumerate*}\n",
       "\\item 'Female'\n",
       "\\item 'Male'\n",
       "\\item 'Other'\n",
       "\\end{enumerate*}\n"
      ],
      "text/markdown": [
       "1. 'Female'\n",
       "2. 'Male'\n",
       "3. 'Other'\n",
       "\n",
       "\n"
      ],
      "text/plain": [
       "[1] \"Female\" \"Male\"   \"Other\" "
      ]
     },
     "metadata": {},
     "output_type": "display_data"
    }
   ],
   "source": [
    "# Check the levels of gender\n",
    "levels(comics$gender)"
   ]
  },
  {
   "cell_type": "code",
   "execution_count": 26,
   "metadata": {},
   "outputs": [
    {
     "data": {
      "text/plain": [
       "        \n",
       "          Bad Good Neutral Reformed Criminals\n",
       "  Female 1573 2490     836                  1\n",
       "  Male   7561 4809    1799                  2\n",
       "  Other    32   17      17                  0"
      ]
     },
     "metadata": {},
     "output_type": "display_data"
    }
   ],
   "source": [
    "# Create a 2-way contingency table\n",
    "(tab <- table(comics$gender, comics$align))"
   ]
  },
  {
   "cell_type": "markdown",
   "metadata": {},
   "source": [
    "### Dropping levels\n",
    "\n",
    "The contingency table from the last exercise revealed that there are some levels that have very low counts. To simplify the analysis, it often helps to drop such levels.\n",
    "\n",
    "this requires two steps: \n",
    "- first filtering out any rows with the levels that have very low counts, \n",
    "- then removing these levels from the factor variable with `droplevels()`. \n",
    "\n",
    "This is because the `droplevels()` function would keep levels that have just 1 or 2 counts; it only drops levels that don't exist in a dataset."
   ]
  },
  {
   "cell_type": "code",
   "execution_count": 28,
   "metadata": {},
   "outputs": [
    {
     "data": {
      "text/html": [
       "<ol class=list-inline>\n",
       "\t<li>'Bad'</li>\n",
       "\t<li>'Good'</li>\n",
       "\t<li>'Neutral'</li>\n",
       "</ol>\n"
      ],
      "text/latex": [
       "\\begin{enumerate*}\n",
       "\\item 'Bad'\n",
       "\\item 'Good'\n",
       "\\item 'Neutral'\n",
       "\\end{enumerate*}\n"
      ],
      "text/markdown": [
       "1. 'Bad'\n",
       "2. 'Good'\n",
       "3. 'Neutral'\n",
       "\n",
       "\n"
      ],
      "text/plain": [
       "[1] \"Bad\"     \"Good\"    \"Neutral\""
      ]
     },
     "metadata": {},
     "output_type": "display_data"
    }
   ],
   "source": [
    "# Remove align level\n",
    "comics_filtered <- comics %>%\n",
    "  filter(align != \"Reformed Criminals\") %>%\n",
    "  droplevels()\n",
    "levels(comics_filtered$align)"
   ]
  },
  {
   "cell_type": "markdown",
   "metadata": {},
   "source": [
    "### Side-by-side barcharts\n",
    "\n",
    "While a contingency table represents the counts numerically, it's often more useful to represent them graphically."
   ]
  },
  {
   "cell_type": "code",
   "execution_count": 29,
   "metadata": {},
   "outputs": [
    {
     "data": {
      "image/png": "[encoded data removed]",
      "text/plain": [
       "plot without title"
      ]
     },
     "metadata": {},
     "output_type": "display_data"
    }
   ],
   "source": [
    "# Create side-by-side barchart of gender by alignment\n",
    "comics_filtered %>%\n",
    "    ggplot(aes(x = align, fill = gender)) + \n",
    "    geom_bar(position = \"dodge\")"
   ]
  },
  {
   "cell_type": "code",
   "execution_count": 30,
   "metadata": {},
   "outputs": [
    {
     "data": {
      "image/png": "[encoded data removed]",
      "text/plain": [
       "plot without title"
      ]
     },
     "metadata": {},
     "output_type": "display_data"
    }
   ],
   "source": [
    "# Create side-by-side barchart of alignment by gender\n",
    "comics_filtered %>%\n",
    "    ggplot(aes(x = gender, fill = align)) + \n",
    "    geom_bar(position=\"dodge\") +\n",
    "    theme(axis.text.x = element_text(angle = 90))"
   ]
  },
  {
   "cell_type": "markdown",
   "metadata": {},
   "source": [
    "- Among characters with \"Neutral\" alignment, males are the most common.\n",
    "- In general, there is an association between gender and alignment.\n",
    "- There are more male characters than female characters in this dataset."
   ]
  },
  {
   "cell_type": "markdown",
   "metadata": {},
   "source": [
    "## Counts vs. proportions\n",
    "\n",
    "> ### From counts to proportions"
   ]
  },
  {
   "cell_type": "code",
   "execution_count": 31,
   "metadata": {},
   "outputs": [
    {
     "data": {
      "text/plain": [
       "         \n",
       "           Bad Good Neutral\n",
       "  No Dual  474  647     390\n",
       "  Public  2172 2930     965\n",
       "  Secret  4493 2475     959\n",
       "  Unknown    7    0       2"
      ]
     },
     "metadata": {},
     "output_type": "display_data"
    }
   ],
   "source": [
    "# simplify display format\n",
    "options(scipen = 999, digits = 3)\n",
    "(tab <- table(comics_filtered$id, comics_filtered$align))"
   ]
  },
  {
   "cell_type": "code",
   "execution_count": 36,
   "metadata": {},
   "outputs": [
    {
     "data": {
      "text/plain": [
       "         \n",
       "               Bad     Good  Neutral\n",
       "  No Dual 0.030553 0.041704 0.025139\n",
       "  Public  0.140003 0.188862 0.062202\n",
       "  Secret  0.289609 0.159533 0.061815\n",
       "  Unknown 0.000451 0.000000 0.000129"
      ]
     },
     "metadata": {},
     "output_type": "display_data"
    }
   ],
   "source": [
    "prop.table(tab)"
   ]
  },
  {
   "cell_type": "code",
   "execution_count": 38,
   "metadata": {},
   "outputs": [
    {
     "data": {
      "text/html": [
       "1"
      ],
      "text/latex": [
       "1"
      ],
      "text/markdown": [
       "1"
      ],
      "text/plain": [
       "[1] 1"
      ]
     },
     "metadata": {},
     "output_type": "display_data"
    }
   ],
   "source": [
    "sum(prop.table(tab))"
   ]
  },
  {
   "cell_type": "markdown",
   "metadata": {},
   "source": [
    "> ### Conditional proportions"
   ]
  },
  {
   "cell_type": "code",
   "execution_count": 42,
   "metadata": {},
   "outputs": [
    {
     "data": {
      "text/plain": [
       "         \n",
       "            Bad  Good Neutral\n",
       "  No Dual 0.314 0.428   0.258\n",
       "  Public  0.358 0.483   0.159\n",
       "  Secret  0.567 0.312   0.121\n",
       "  Unknown 0.778 0.000   0.222"
      ]
     },
     "metadata": {},
     "output_type": "display_data"
    }
   ],
   "source": [
    "# Condition on the rows (i.e. rows sum to 1)\n",
    "prop.table(tab, 1)"
   ]
  },
  {
   "cell_type": "code",
   "execution_count": 43,
   "metadata": {},
   "outputs": [
    {
     "data": {
      "text/plain": [
       "         \n",
       "               Bad     Good  Neutral\n",
       "  No Dual 0.066331 0.106907 0.168394\n",
       "  Public  0.303946 0.484137 0.416667\n",
       "  Secret  0.628743 0.408956 0.414076\n",
       "  Unknown 0.000980 0.000000 0.000864"
      ]
     },
     "metadata": {},
     "output_type": "display_data"
    }
   ],
   "source": [
    "# Condition on the columns (i.e. columns sum to 1)\n",
    "prop.table(tab, 2)"
   ]
  },
  {
   "cell_type": "code",
   "execution_count": 44,
   "metadata": {},
   "outputs": [
    {
     "data": {
      "image/png": "[encoded data removed]",
      "text/plain": [
       "plot without title"
      ]
     },
     "metadata": {},
     "output_type": "display_data"
    }
   ],
   "source": [
    "comics_filtered %>%\n",
    "    ggplot(aes(x=id, fill=align)) +\n",
    "    geom_bar()"
   ]
  },
  {
   "cell_type": "code",
   "execution_count": 46,
   "metadata": {},
   "outputs": [
    {
     "data": {
      "image/png": "[encoded data removed]",
      "text/plain": [
       "plot without title"
      ]
     },
     "metadata": {},
     "output_type": "display_data"
    }
   ],
   "source": [
    "comics_filtered %>%\n",
    "    ggplot(aes(x=id, fill=align)) +\n",
    "    geom_bar(position = \"fill\")"
   ]
  },
  {
   "cell_type": "code",
   "execution_count": 47,
   "metadata": {},
   "outputs": [
    {
     "data": {
      "image/png": "[encoded data removed]",
      "text/plain": [
       "plot without title"
      ]
     },
     "metadata": {},
     "output_type": "display_data"
    }
   ],
   "source": [
    "comics_filtered %>%\n",
    "    ggplot(aes(x=id, fill=align)) +\n",
    "    geom_bar(position=\"fill\") +\n",
    "    ylab(\"proportion\")"
   ]
  },
  {
   "cell_type": "markdown",
   "metadata": {},
   "source": [
    "By adding `position = \"fill\"` to `geom_bar()`, you are saying you want the bars to fill the entire height of the plotting window, thus displaying proportions and not raw counts."
   ]
  },
  {
   "cell_type": "code",
   "execution_count": 48,
   "metadata": {},
   "outputs": [
    {
     "data": {
      "image/png": "[encoded data removed]",
      "text/plain": [
       "plot without title"
      ]
     },
     "metadata": {},
     "output_type": "display_data"
    }
   ],
   "source": [
    "comics_filtered %>%\n",
    "    ggplot(aes(x=align, fill=id)) +\n",
    "    geom_bar(position=\"fill\") +\n",
    "    ylab(\"proportion\")"
   ]
  },
  {
   "cell_type": "code",
   "execution_count": 49,
   "metadata": {},
   "outputs": [
    {
     "data": {
      "text/plain": [
       "                    \n",
       "                     Female Male Other\n",
       "  Bad                  1573 7561    32\n",
       "  Good                 2490 4809    17\n",
       "  Neutral               836 1799    17\n",
       "  Reformed Criminals      1    2     0"
      ]
     },
     "metadata": {},
     "output_type": "display_data"
    }
   ],
   "source": [
    "(tab <- table(comics$align, comics$gender))"
   ]
  },
  {
   "cell_type": "code",
   "execution_count": 50,
   "metadata": {},
   "outputs": [
    {
     "data": {
      "text/plain": [
       "                    \n",
       "                        Female      Male     Other\n",
       "  Bad                0.0821968 0.3950985 0.0016722\n",
       "  Good               0.1301144 0.2512933 0.0008883\n",
       "  Neutral            0.0436850 0.0940064 0.0008883\n",
       "  Reformed Criminals 0.0000523 0.0001045 0.0000000"
      ]
     },
     "metadata": {},
     "output_type": "display_data"
    }
   ],
   "source": [
    "prop.table(tab)"
   ]
  },
  {
   "cell_type": "code",
   "execution_count": 51,
   "metadata": {},
   "outputs": [
    {
     "data": {
      "text/plain": [
       "                    \n",
       "                       Female     Male    Other\n",
       "  Bad                0.321020 0.533554 0.484848\n",
       "  Good               0.508163 0.339355 0.257576\n",
       "  Neutral            0.170612 0.126949 0.257576\n",
       "  Reformed Criminals 0.000204 0.000141 0.000000"
      ]
     },
     "metadata": {},
     "output_type": "display_data"
    }
   ],
   "source": [
    "prop.table(tab, 2)"
   ]
  },
  {
   "cell_type": "markdown",
   "metadata": {},
   "source": [
    "Approximately 51% of all female characters are good?"
   ]
  },
  {
   "cell_type": "markdown",
   "metadata": {},
   "source": [
    "### Counts vs. proportions (2)\n",
    "\n",
    "Bar charts can tell dramatically different stories depending on whether they represent counts or proportions and, if proportions, what the proportions are conditioned on. To demonstrate this difference, we'll construct two barcharts one of counts and one of proportions."
   ]
  },
  {
   "cell_type": "code",
   "execution_count": 52,
   "metadata": {},
   "outputs": [
    {
     "data": {
      "image/png": "[encoded data removed]",
      "text/plain": [
       "plot without title"
      ]
     },
     "metadata": {},
     "output_type": "display_data"
    }
   ],
   "source": [
    "# Plot of gender by align\n",
    "ggplot(comics, aes(x = align, fill = gender)) +\n",
    "  geom_bar()"
   ]
  },
  {
   "cell_type": "code",
   "execution_count": 53,
   "metadata": {},
   "outputs": [
    {
     "data": {
      "image/png": "[encoded data removed]",
      "text/plain": [
       "plot without title"
      ]
     },
     "metadata": {},
     "output_type": "display_data"
    }
   ],
   "source": [
    "# Plot proportion of gender, conditional on align\n",
    "ggplot(comics, aes(x = align, fill = gender)) + \n",
    "  geom_bar(position = \"fill\") +\n",
    "  ylab(\"proportion\")"
   ]
  },
  {
   "cell_type": "markdown",
   "metadata": {},
   "source": [
    "## Distribution of one variable\n",
    "\n",
    "> ### Marginal distribution"
   ]
  },
  {
   "cell_type": "code",
   "execution_count": 54,
   "metadata": {},
   "outputs": [
    {
     "data": {
      "text/plain": [
       "\n",
       "No Dual  Public  Secret Unknown \n",
       "   1788    6994    8698       9 "
      ]
     },
     "metadata": {},
     "output_type": "display_data"
    }
   ],
   "source": [
    "table(comics$id)"
   ]
  },
  {
   "cell_type": "code",
   "execution_count": 56,
   "metadata": {},
   "outputs": [
    {
     "data": {
      "text/plain": [
       "         \n",
       "           Bad Good Neutral\n",
       "  No Dual  474  647     390\n",
       "  Public  2172 2930     965\n",
       "  Secret  4493 2475     959\n",
       "  Unknown    7    0       2"
      ]
     },
     "metadata": {},
     "output_type": "display_data"
    }
   ],
   "source": [
    "(tab <- table(comics_filtered$id, comics_filtered$align))"
   ]
  },
  {
   "cell_type": "markdown",
   "metadata": {},
   "source": [
    "> ### Simple barchart"
   ]
  },
  {
   "cell_type": "code",
   "execution_count": 57,
   "metadata": {},
   "outputs": [
    {
     "data": {
      "image/png": "[encoded data removed]",
      "text/plain": [
       "plot without title"
      ]
     },
     "metadata": {},
     "output_type": "display_data"
    }
   ],
   "source": [
    "comics_filtered %>%\n",
    "    ggplot(aes(x=id)) +\n",
    "    geom_bar()"
   ]
  },
  {
   "cell_type": "markdown",
   "metadata": {},
   "source": [
    "> ### Faceted barcharts"
   ]
  },
  {
   "cell_type": "code",
   "execution_count": 58,
   "metadata": {},
   "outputs": [
    {
     "data": {
      "image/png": "[encoded data removed]",
      "text/plain": [
       "plot without title"
      ]
     },
     "metadata": {},
     "output_type": "display_data"
    }
   ],
   "source": [
    "comics_filtered %>%\n",
    "    ggplot(aes(x=id)) +\n",
    "    geom_bar() +\n",
    "    facet_wrap(~align)"
   ]
  },
  {
   "cell_type": "markdown",
   "metadata": {},
   "source": [
    "### Marginal barchart"
   ]
  },
  {
   "cell_type": "code",
   "execution_count": 59,
   "metadata": {},
   "outputs": [
    {
     "data": {
      "image/png": "[encoded data removed]",
      "text/plain": [
       "plot without title"
      ]
     },
     "metadata": {},
     "output_type": "display_data"
    }
   ],
   "source": [
    "# Change the order of the levels in align\n",
    "comics <- comics_filtered\n",
    "\n",
    "comics$align <- factor(comics$align, \n",
    "                       levels = c(\"Bad\", \"Neutral\", \"Good\"))\n",
    "\n",
    "# Create plot of align\n",
    "ggplot(comics, aes(x = align)) + \n",
    "  geom_bar()"
   ]
  },
  {
   "cell_type": "markdown",
   "metadata": {},
   "source": [
    "### Conditional barchart\n",
    "\n",
    "Now, if we want to break down the distribution of alignment based on gender, we're looking for conditional distributions.\n",
    "\n",
    "We could make these by creating multiple filtered datasets (one for each gender) or by faceting the plot of alignment based on gender."
   ]
  },
  {
   "cell_type": "code",
   "execution_count": 60,
   "metadata": {},
   "outputs": [
    {
     "data": {
      "image/png": "[encoded data removed]",
      "text/plain": [
       "plot without title"
      ]
     },
     "metadata": {},
     "output_type": "display_data"
    }
   ],
   "source": [
    "# Plot of alignment broken down by gender\n",
    "ggplot(comics, aes(x = align)) + \n",
    "  geom_bar() +\n",
    "  facet_wrap(~ gender)"
   ]
  },
  {
   "cell_type": "markdown",
   "metadata": {},
   "source": [
    "### Improve piechart\n",
    "\n",
    "The piechart is a very common way to represent the distribution of a single categorical variable, but they can be more difficult to interpret than barcharts."
   ]
  },
  {
   "cell_type": "markdown",
   "metadata": {},
   "source": [
    "# Exploring Numerical Data\n",
    "\n",
    "We will explore how to graphically summarize numerical data."
   ]
  },
  {
   "cell_type": "code",
   "execution_count": null,
   "metadata": {},
   "outputs": [],
   "source": []
  },
  {
   "cell_type": "code",
   "execution_count": null,
   "metadata": {},
   "outputs": [],
   "source": []
  },
  {
   "cell_type": "code",
   "execution_count": null,
   "metadata": {},
   "outputs": [],
   "source": []
  },
  {
   "cell_type": "code",
   "execution_count": null,
   "metadata": {},
   "outputs": [],
   "source": []
  },
  {
   "cell_type": "code",
   "execution_count": null,
   "metadata": {},
   "outputs": [],
   "source": []
  },
  {
   "cell_type": "code",
   "execution_count": null,
   "metadata": {},
   "outputs": [],
   "source": []
  },
  {
   "cell_type": "code",
   "execution_count": null,
   "metadata": {},
   "outputs": [],
   "source": []
  },
  {
   "cell_type": "code",
   "execution_count": null,
   "metadata": {},
   "outputs": [],
   "source": []
  },
  {
   "cell_type": "code",
   "execution_count": null,
   "metadata": {},
   "outputs": [],
   "source": []
  },
  {
   "cell_type": "code",
   "execution_count": null,
   "metadata": {},
   "outputs": [],
   "source": []
  },
  {
   "cell_type": "code",
   "execution_count": null,
   "metadata": {},
   "outputs": [],
   "source": []
  },
  {
   "cell_type": "code",
   "execution_count": null,
   "metadata": {},
   "outputs": [],
   "source": []
  },
  {
   "cell_type": "code",
   "execution_count": null,
   "metadata": {},
   "outputs": [],
   "source": []
  },
  {
   "cell_type": "code",
   "execution_count": null,
   "metadata": {},
   "outputs": [],
   "source": []
  },
  {
   "cell_type": "code",
   "execution_count": null,
   "metadata": {},
   "outputs": [],
   "source": []
  },
  {
   "cell_type": "code",
   "execution_count": null,
   "metadata": {},
   "outputs": [],
   "source": []
  },
  {
   "cell_type": "code",
   "execution_count": null,
   "metadata": {},
   "outputs": [],
   "source": []
  },
  {
   "cell_type": "code",
   "execution_count": null,
   "metadata": {},
   "outputs": [],
   "source": []
  },
  {
   "cell_type": "code",
   "execution_count": null,
   "metadata": {},
   "outputs": [],
   "source": []
  },
  {
   "cell_type": "code",
   "execution_count": null,
   "metadata": {},
   "outputs": [],
   "source": []
  },
  {
   "cell_type": "code",
   "execution_count": null,
   "metadata": {},
   "outputs": [],
   "source": []
  },
  {
   "cell_type": "code",
   "execution_count": null,
   "metadata": {},
   "outputs": [],
   "source": []
  },
  {
   "cell_type": "code",
   "execution_count": null,
   "metadata": {},
   "outputs": [],
   "source": []
  },
  {
   "cell_type": "code",
   "execution_count": null,
   "metadata": {},
   "outputs": [],
   "source": []
  },
  {
   "cell_type": "code",
   "execution_count": null,
   "metadata": {},
   "outputs": [],
   "source": []
  },
  {
   "cell_type": "code",
   "execution_count": null,
   "metadata": {},
   "outputs": [],
   "source": []
  },
  {
   "cell_type": "code",
   "execution_count": null,
   "metadata": {},
   "outputs": [],
   "source": []
  },
  {
   "cell_type": "code",
   "execution_count": null,
   "metadata": {},
   "outputs": [],
   "source": []
  },
  {
   "cell_type": "code",
   "execution_count": null,
   "metadata": {},
   "outputs": [],
   "source": []
  },
  {
   "cell_type": "code",
   "execution_count": null,
   "metadata": {},
   "outputs": [],
   "source": []
  },
  {
   "cell_type": "code",
   "execution_count": null,
   "metadata": {},
   "outputs": [],
   "source": []
  },
  {
   "cell_type": "code",
   "execution_count": null,
   "metadata": {},
   "outputs": [],
   "source": []
  },
  {
   "cell_type": "code",
   "execution_count": null,
   "metadata": {},
   "outputs": [],
   "source": []
  },
  {
   "cell_type": "code",
   "execution_count": null,
   "metadata": {},
   "outputs": [],
   "source": []
  },
  {
   "cell_type": "code",
   "execution_count": null,
   "metadata": {},
   "outputs": [],
   "source": []
  },
  {
   "cell_type": "code",
   "execution_count": null,
   "metadata": {},
   "outputs": [],
   "source": []
  },
  {
   "cell_type": "code",
   "execution_count": null,
   "metadata": {},
   "outputs": [],
   "source": []
  }
 ],
 "metadata": {
  "kernelspec": {
   "display_name": "R",
   "language": "R",
   "name": "ir"
  },
  "language_info": {
   "codemirror_mode": "r",
   "file_extension": ".r",
   "mimetype": "text/x-r-source",
   "name": "R",
   "pygments_lexer": "r",
   "version": "3.6.1"
  }
 },
 "nbformat": 4,
 "nbformat_minor": 4
}
